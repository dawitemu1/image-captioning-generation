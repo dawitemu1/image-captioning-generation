{
 "cells": [
  {
   "cell_type": "markdown",
   "id": "954c880f-993d-469c-8b17-bfd9705ab9f7",
   "metadata": {},
   "source": [
    "## Step 1: Load the Dataset\n",
    "Assume we have a dataset of images and their captions stored locally. The images are in a directory, and captions are in a text file where each line has the format image_file_name|caption.\n",
    "\n",
    "### 1.1 Load Images and Captions\n",
    "First, we need to create a custom Dataset class to handle our data"
   ]
  },
  {
   "cell_type": "code",
   "execution_count": 5,
   "id": "5ce8b09c-c515-491b-8c32-70b29b3bb7bb",
   "metadata": {},
   "outputs": [
    {
     "name": "stdout",
     "output_type": "stream",
     "text": [
      "                         image  \\\n",
      "0  1000268201_693b08cb0e.jpg#0   \n",
      "1  1000268201_693b08cb0e.jpg#1   \n",
      "2  1000268201_693b08cb0e.jpg#2   \n",
      "3  1000268201_693b08cb0e.jpg#3   \n",
      "4  1000268201_693b08cb0e.jpg#4   \n",
      "\n",
      "                                             caption  \n",
      "0  A child in a pink dress is climbing up a set o...  \n",
      "1              A girl going into a wooden building .  \n",
      "2   A little girl climbing into a wooden playhouse .  \n",
      "3  A little girl climbing the stairs to her playh...  \n",
      "4  A little girl in a pink dress going into a woo...  \n",
      "A child in a pink dress is climbing up a set of stairs in an entry way .\n"
     ]
    }
   ],
   "source": [
    "import os\n",
    "import pandas as pd\n",
    "from PIL import Image\n",
    "\n",
    "# Assuming you have the Flickr8k dataset downloaded and extracted\n",
    "image_folder = 'D:/PhD file/image caption/image caption model with app/Flickr8k_Dataset/training_Dataset'\n",
    "caption_file = 'D:/PhD file/image caption/image caption model with app/Flickr8k_text (1)/training.txt'\n",
    "\n",
    "# Read the captions file\n",
    "captions = pd.read_csv(caption_file, delimiter='\\t', header=None, names=['image', 'caption'])\n",
    "\n",
    "# Show the first few entries\n",
    "print(captions.head())\n",
    "\n",
    "# Example of reading an image and its caption\n",
    "image_name = captions.iloc[0, 0].split('#')[0]  # Remove the #0 suffix\n",
    "caption = captions.iloc[0, 1]\n",
    "\n",
    "image_path = os.path.join(image_folder, image_name)\n",
    "image = Image.open(image_path)\n",
    "\n",
    "# Display the image and its caption\n",
    "image.show()\n",
    "print(caption)\n"
   ]
  },
  {
   "cell_type": "markdown",
   "id": "9b3c4378-3360-482a-a964-385e11634e12",
   "metadata": {},
   "source": [
    "### Step 2: Preprocess Both Image and Caption"
   ]
  },
  {
   "cell_type": "code",
   "execution_count": 6,
   "id": "714910a0-fc45-479c-9f2a-2cdebe6c3bfc",
   "metadata": {
    "tags": []
   },
   "outputs": [
    {
     "name": "stdout",
     "output_type": "stream",
     "text": [
      "(229, 23)\n",
      "(1, 224, 224, 3)\n",
      "[  2  32   4   2 136 137   9  39  55   2 138   8 173   4  23 271 272   0\n",
      "   0   0   0   0   0]\n"
     ]
    }
   ],
   "source": [
    "import tensorflow as tf\n",
    "from tensorflow.keras.preprocessing.text import Tokenizer\n",
    "from tensorflow.keras.preprocessing.sequence import pad_sequences\n",
    "from tensorflow.keras.applications.vgg16 import VGG16, preprocess_input\n",
    "import numpy as np\n",
    "\n",
    "# Preprocess the images\n",
    "def preprocess_image(image_path):\n",
    "    image = Image.open(image_path)\n",
    "    image = image.resize((224, 224))\n",
    "    image = np.array(image)\n",
    "    image = np.expand_dims(image, axis=0)\n",
    "    image = preprocess_input(image)\n",
    "    return image\n",
    "\n",
    "# Preprocess the captions\n",
    "tokenizer = Tokenizer(num_words=5000, oov_token='<UNK>')\n",
    "tokenizer.fit_on_texts(captions['caption'])\n",
    "sequences = tokenizer.texts_to_sequences(captions['caption'])\n",
    "padded_sequences = pad_sequences(sequences, padding='post')\n",
    "\n",
    "print(padded_sequences.shape)\n",
    "\n",
    "# Example of preprocessing an image and a caption\n",
    "image_path = os.path.join(image_folder, image_name)\n",
    "preprocessed_image = preprocess_image(image_path)\n",
    "print(preprocessed_image.shape)\n",
    "\n",
    "caption_sequence = padded_sequences[0]\n",
    "print(caption_sequence)\n"
   ]
  },
  {
   "cell_type": "markdown",
   "id": "4dd0d089-7862-4782-8567-70a42cfaf1ee",
   "metadata": {},
   "source": [
    "### Step 3: Train and Test Model"
   ]
  },
  {
   "cell_type": "code",
   "execution_count": 12,
   "id": "ccea7b3a-6fb2-4cf9-ba16-1bc9577ccd66",
   "metadata": {
    "tags": []
   },
   "outputs": [
    {
     "name": "stdout",
     "output_type": "stream",
     "text": [
      "Length of preprocessed_image: 229\n",
      "Shape of preprocessed_image: (229, 224, 224, 3)\n",
      "Length of padded_sequences: 229\n",
      "Shape of padded_sequences: (229, 20)\n",
      "Epoch 1/10\n",
      "\u001b[1m8/8\u001b[0m \u001b[32m━━━━━━━━━━━━━━━━━━━━\u001b[0m\u001b[37m\u001b[0m \u001b[1m108s\u001b[0m 11s/step - accuracy: 0.0000e+00 - loss: 8.5606\n",
      "Epoch 2/10\n",
      "\u001b[1m8/8\u001b[0m \u001b[32m━━━━━━━━━━━━━━━━━━━━\u001b[0m\u001b[37m\u001b[0m \u001b[1m93s\u001b[0m 11s/step - accuracy: 4.8739e-04 - loss: 8.4559\n",
      "Epoch 3/10\n",
      "\u001b[1m8/8\u001b[0m \u001b[32m━━━━━━━━━━━━━━━━━━━━\u001b[0m\u001b[37m\u001b[0m \u001b[1m92s\u001b[0m 11s/step - accuracy: 9.1283e-04 - loss: 8.2559\n",
      "Epoch 4/10\n",
      "\u001b[1m8/8\u001b[0m \u001b[32m━━━━━━━━━━━━━━━━━━━━\u001b[0m\u001b[37m\u001b[0m \u001b[1m63s\u001b[0m 8s/step - accuracy: 0.0011 - loss: 7.9827\n",
      "Epoch 5/10\n",
      "\u001b[1m8/8\u001b[0m \u001b[32m━━━━━━━━━━━━━━━━━━━━\u001b[0m\u001b[37m\u001b[0m \u001b[1m61s\u001b[0m 7s/step - accuracy: 9.1179e-04 - loss: 7.8460\n",
      "Epoch 6/10\n",
      "\u001b[1m8/8\u001b[0m \u001b[32m━━━━━━━━━━━━━━━━━━━━\u001b[0m\u001b[37m\u001b[0m \u001b[1m60s\u001b[0m 7s/step - accuracy: 7.9910e-04 - loss: 7.7727\n",
      "Epoch 7/10\n",
      "\u001b[1m8/8\u001b[0m \u001b[32m━━━━━━━━━━━━━━━━━━━━\u001b[0m\u001b[37m\u001b[0m \u001b[1m57s\u001b[0m 7s/step - accuracy: 9.2197e-04 - loss: 7.7017\n",
      "Epoch 8/10\n",
      "\u001b[1m8/8\u001b[0m \u001b[32m━━━━━━━━━━━━━━━━━━━━\u001b[0m\u001b[37m\u001b[0m \u001b[1m56s\u001b[0m 7s/step - accuracy: 0.0013 - loss: 7.6434\n",
      "Epoch 9/10\n",
      "\u001b[1m8/8\u001b[0m \u001b[32m━━━━━━━━━━━━━━━━━━━━\u001b[0m\u001b[37m\u001b[0m \u001b[1m57s\u001b[0m 7s/step - accuracy: 0.0022 - loss: 7.5986\n",
      "Epoch 10/10\n",
      "\u001b[1m8/8\u001b[0m \u001b[32m━━━━━━━━━━━━━━━━━━━━\u001b[0m\u001b[37m\u001b[0m \u001b[1m56s\u001b[0m 7s/step - accuracy: 0.0034 - loss: 7.5317\n"
     ]
    },
    {
     "data": {
      "text/plain": [
       "<keras.src.callbacks.history.History at 0x1a521ff14d0>"
      ]
     },
     "execution_count": 12,
     "metadata": {},
     "output_type": "execute_result"
    }
   ],
   "source": [
    "import numpy as np\n",
    "import tensorflow as tf\n",
    "from tensorflow.keras.applications import VGG16\n",
    "from tensorflow.keras.models import Model\n",
    "from tensorflow.keras.layers import Input, LSTM, Embedding, Dense, Concatenate\n",
    "from tensorflow.keras.optimizers import Adam\n",
    "\n",
    "# Example preprocessed image data and padded sequences for debugging\n",
    "preprocessed_image = np.random.rand(229, 224, 224, 3)  # Dummy data: 229 images of shape 224x224x3\n",
    "padded_sequences = np.random.randint(5000, size=(229, 20))  # Dummy data: 229 sequences of length 20\n",
    "\n",
    "# Define the image model\n",
    "image_input = Input(shape=(224, 224, 3))\n",
    "vgg_model = VGG16(include_top=False, weights='imagenet')\n",
    "vgg_model.trainable = False\n",
    "image_features = vgg_model(image_input)\n",
    "image_features = tf.keras.layers.Flatten()(image_features)\n",
    "image_features = tf.keras.layers.Dense(256, activation='relu')(image_features)\n",
    "image_features = tf.keras.layers.RepeatVector(19)(image_features)  # Repeat image features for each time step (19)\n",
    "\n",
    "# Define the caption model\n",
    "caption_input = Input(shape=(None,))\n",
    "embedding = Embedding(input_dim=5000, output_dim=256)(caption_input)\n",
    "lstm = LSTM(256, return_sequences=True)(embedding)\n",
    "\n",
    "# Concatenate image and caption features\n",
    "decoder = Concatenate()([image_features, lstm])\n",
    "output = Dense(5000, activation='softmax')(decoder)\n",
    "\n",
    "# Define the model\n",
    "model = Model(inputs=[image_input, caption_input], outputs=output)\n",
    "model.compile(loss='sparse_categorical_crossentropy', optimizer=Adam(), metrics=['accuracy'])\n",
    "\n",
    "# Debugging prints\n",
    "print(\"Length of preprocessed_image:\", len(preprocessed_image))\n",
    "print(\"Shape of preprocessed_image:\", preprocessed_image.shape)\n",
    "print(\"Length of padded_sequences:\", len(padded_sequences))\n",
    "print(\"Shape of padded_sequences:\", padded_sequences.shape)\n",
    "\n",
    "# Ensure both inputs have the same number of samples\n",
    "assert len(preprocessed_image) == padded_sequences.shape[0], \"Number of samples in preprocessed_image and padded_sequences must match.\"\n",
    "\n",
    "# Slice padded_sequences to match the model's input requirements\n",
    "inputs = padded_sequences[:, :-1]  # Slice to use as input\n",
    "targets = padded_sequences[:, 1:]  # Slice to use as target labels\n",
    "\n",
    "# Reshape targets to be (batch_size, sequence_length, 1)\n",
    "targets = np.expand_dims(targets, axis=-1)\n",
    "\n",
    "# Train the model\n",
    "model.fit([preprocessed_image, inputs], targets, epochs=10, batch_size=32)\n"
   ]
  },
  {
   "cell_type": "code",
   "execution_count": 14,
   "id": "b1890b30-ae1c-43a5-814b-355a687b5d49",
   "metadata": {
    "tags": []
   },
   "outputs": [
    {
     "ename": "ValueError",
     "evalue": "Unrecognized data type: x=[Ellipsis, Ellipsis] (of type <class 'list'>)",
     "output_type": "error",
     "traceback": [
      "\u001b[1;31m---------------------------------------------------------------------------\u001b[0m",
      "\u001b[1;31mValueError\u001b[0m                                Traceback (most recent call last)",
      "Cell \u001b[1;32mIn[14], line 7\u001b[0m\n\u001b[0;32m      4\u001b[0m test_targets \u001b[38;5;241m=\u001b[39m \u001b[38;5;241m.\u001b[39m\u001b[38;5;241m.\u001b[39m\u001b[38;5;241m.\u001b[39m  \u001b[38;5;66;03m# Define or load your test targets (labels or indices)\u001b[39;00m\n\u001b[0;32m      6\u001b[0m \u001b[38;5;66;03m# Evaluate the model on the test set\u001b[39;00m\n\u001b[1;32m----> 7\u001b[0m test_loss, test_accuracy \u001b[38;5;241m=\u001b[39m model\u001b[38;5;241m.\u001b[39mevaluate([test_images, test_captions], test_targets)\n\u001b[0;32m      9\u001b[0m \u001b[38;5;66;03m# Print the evaluation results\u001b[39;00m\n\u001b[0;32m     10\u001b[0m \u001b[38;5;28mprint\u001b[39m(\u001b[38;5;124mf\u001b[39m\u001b[38;5;124m'\u001b[39m\u001b[38;5;124mTest Loss: \u001b[39m\u001b[38;5;132;01m{\u001b[39;00mtest_loss\u001b[38;5;132;01m}\u001b[39;00m\u001b[38;5;124m, Test Accuracy: \u001b[39m\u001b[38;5;132;01m{\u001b[39;00mtest_accuracy\u001b[38;5;132;01m}\u001b[39;00m\u001b[38;5;124m'\u001b[39m)\n",
      "File \u001b[1;32m~\\anaconda3\\Lib\\site-packages\\keras\\src\\utils\\traceback_utils.py:122\u001b[0m, in \u001b[0;36mfilter_traceback.<locals>.error_handler\u001b[1;34m(*args, **kwargs)\u001b[0m\n\u001b[0;32m    119\u001b[0m     filtered_tb \u001b[38;5;241m=\u001b[39m _process_traceback_frames(e\u001b[38;5;241m.\u001b[39m__traceback__)\n\u001b[0;32m    120\u001b[0m     \u001b[38;5;66;03m# To get the full stack trace, call:\u001b[39;00m\n\u001b[0;32m    121\u001b[0m     \u001b[38;5;66;03m# `keras.config.disable_traceback_filtering()`\u001b[39;00m\n\u001b[1;32m--> 122\u001b[0m     \u001b[38;5;28;01mraise\u001b[39;00m e\u001b[38;5;241m.\u001b[39mwith_traceback(filtered_tb) \u001b[38;5;28;01mfrom\u001b[39;00m \u001b[38;5;28;01mNone\u001b[39;00m\n\u001b[0;32m    123\u001b[0m \u001b[38;5;28;01mfinally\u001b[39;00m:\n\u001b[0;32m    124\u001b[0m     \u001b[38;5;28;01mdel\u001b[39;00m filtered_tb\n",
      "File \u001b[1;32m~\\anaconda3\\Lib\\site-packages\\keras\\src\\trainers\\data_adapters\\__init__.py:120\u001b[0m, in \u001b[0;36mget_data_adapter\u001b[1;34m(x, y, sample_weight, batch_size, steps_per_epoch, shuffle, class_weight)\u001b[0m\n\u001b[0;32m    112\u001b[0m     \u001b[38;5;28;01mreturn\u001b[39;00m GeneratorDataAdapter(x)\n\u001b[0;32m    113\u001b[0m     \u001b[38;5;66;03m# TODO: should we warn or not?\u001b[39;00m\n\u001b[0;32m    114\u001b[0m     \u001b[38;5;66;03m# warnings.warn(\u001b[39;00m\n\u001b[0;32m    115\u001b[0m     \u001b[38;5;66;03m#     \"`shuffle=True` was passed, but will be ignored since the \"\u001b[39;00m\n\u001b[1;32m   (...)\u001b[0m\n\u001b[0;32m    118\u001b[0m     \u001b[38;5;66;03m# )\u001b[39;00m\n\u001b[0;32m    119\u001b[0m \u001b[38;5;28;01melse\u001b[39;00m:\n\u001b[1;32m--> 120\u001b[0m     \u001b[38;5;28;01mraise\u001b[39;00m \u001b[38;5;167;01mValueError\u001b[39;00m(\u001b[38;5;124mf\u001b[39m\u001b[38;5;124m\"\u001b[39m\u001b[38;5;124mUnrecognized data type: x=\u001b[39m\u001b[38;5;132;01m{\u001b[39;00mx\u001b[38;5;132;01m}\u001b[39;00m\u001b[38;5;124m (of type \u001b[39m\u001b[38;5;132;01m{\u001b[39;00m\u001b[38;5;28mtype\u001b[39m(x)\u001b[38;5;132;01m}\u001b[39;00m\u001b[38;5;124m)\u001b[39m\u001b[38;5;124m\"\u001b[39m)\n",
      "\u001b[1;31mValueError\u001b[0m: Unrecognized data type: x=[Ellipsis, Ellipsis] (of type <class 'list'>)"
     ]
    }
   ],
   "source": [
    "# Assuming you have test data ready for evaluation\n",
    "test_images = ...  # Define or load your test images\n",
    "test_captions = ...  # Define or load your test captions\n",
    "test_targets = ...  # Define or load your test targets (labels or indices)\n",
    "\n",
    "# Evaluate the model on the test set\n",
    "test_loss, test_accuracy = model.evaluate([test_images, test_captions], test_targets)\n",
    "\n",
    "# Print the evaluation results\n",
    "print(f'Test Loss: {test_loss}, Test Accuracy: {test_accuracy}')\n"
   ]
  },
  {
   "cell_type": "code",
   "execution_count": null,
   "id": "b693ac4b-47e9-4771-bfbe-dbf733a8e229",
   "metadata": {},
   "outputs": [],
   "source": []
  },
  {
   "cell_type": "code",
   "execution_count": null,
   "id": "54121bbe-95dd-48c5-b13a-37efbf3dab2a",
   "metadata": {},
   "outputs": [],
   "source": []
  },
  {
   "cell_type": "code",
   "execution_count": null,
   "id": "06dc4002-4fbd-4b3d-99b9-651b6baf5fa9",
   "metadata": {},
   "outputs": [],
   "source": []
  },
  {
   "cell_type": "code",
   "execution_count": null,
   "id": "dc1345f6-5cbd-4a5b-8460-ed3510cc903f",
   "metadata": {},
   "outputs": [],
   "source": []
  },
  {
   "cell_type": "markdown",
   "id": "2bd25e54-f686-4e56-a6f8-2a1920612cc9",
   "metadata": {},
   "source": [
    "## Step 3: Build the Model\n",
    "We'll use a pre-trained CNN for feature extraction and an RNN with attention for generating captions.\n",
    "\n",
    "### 3.1 Encoder-Decoder Model with Attention"
   ]
  },
  {
   "cell_type": "code",
   "execution_count": null,
   "id": "25f8fd5e-3447-46b9-bc1f-e162ef8affef",
   "metadata": {},
   "outputs": [],
   "source": [
    "import torch\n",
    "import torch.nn as nn\n",
    "import torchvision.models as models\n",
    "\n",
    "class EncoderCNN(nn.Module):\n",
    "    def __init__(self, embed_size):\n",
    "        super(EncoderCNN, self).__init__()\n",
    "        resnet = models.resnet50(pretrained=True)\n",
    "        for param in resnet.parameters():\n",
    "            param.requires_grad = False\n",
    "        modules = list(resnet.children())[:-1]\n",
    "        self.resnet = nn.Sequential(*modules)\n",
    "        self.linear = nn.Linear(resnet.fc.in_features, embed_size)\n",
    "        self.bn = nn.BatchNorm1d(embed_size, momentum=0.01)\n",
    "\n",
    "    def forward(self, images):\n",
    "        features = self.resnet(images)\n",
    "        features = features.view(features.size(0), -1)\n",
    "        features = self.bn(self.linear(features))\n",
    "        return features\n",
    "\n",
    "class DecoderRNN(nn.Module):\n",
    "    def __init__(self, embed_size, hidden_size, vocab_size, num_layers):\n",
    "        super(DecoderRNN, self).__init__()\n",
    "        self.embed = nn.Embedding(vocab_size, embed_size)\n",
    "        self.lstm = nn.LSTM(embed_size, hidden_size, num_layers, batch_first=True)\n",
    "        self.linear = nn.Linear(hidden_size, vocab_size)\n",
    "        self.init_weights()\n",
    "\n",
    "    def init_weights(self):\n",
    "        self.embed.weight.data.uniform_(-0.1, 0.1)\n",
    "        self.linear.weight.data.uniform_(-0.1, 0.1)\n",
    "        self.linear.bias.data.fill_(0)\n",
    "\n",
    "    def forward(self, features, captions):\n",
    "        embeddings = self.embed(captions)\n",
    "        embeddings = torch.cat((features.unsqueeze(1), embeddings), 1)\n",
    "        hiddens, _ = self.lstm(embeddings)\n",
    "        outputs = self.linear(hiddens)\n",
    "        return outputs\n",
    "\n",
    "class EncoderDecoder(nn.Module):\n",
    "    def __init__(self, embed_size, hidden_size, vocab_size, num_layers):\n",
    "        super(EncoderDecoder, self).__init__()\n",
    "        self.encoder = EncoderCNN(embed_size)\n",
    "        self.decoder = DecoderRNN(embed_size, hidden_size, vocab_size, num_layers)\n",
    "\n",
    "    def forward(self, images, captions):\n",
    "        features = self.encoder(images)\n",
    "        outputs = self.decoder(features, captions)\n",
    "        return outputs\n",
    "\n",
    "# Example usage:\n",
    "embed_size = 256\n",
    "hidden_size = 512\n",
    "num_layers = 1\n",
    "vocab_size = len(vocab)\n",
    "\n",
    "model = EncoderDecoder(embed_size, hidden_size, vocab_size, num_layers).to(device)\n"
   ]
  },
  {
   "cell_type": "markdown",
   "id": "7415853b-04d2-43a7-997b-33209aa93168",
   "metadata": {},
   "source": [
    "## Step 4: Train the Model\n",
    "Define the loss function and the optimizer, and then train the model.\n",
    "\n",
    "### 4.1 Training Loop"
   ]
  },
  {
   "cell_type": "code",
   "execution_count": null,
   "id": "cc3f7d3c-c27c-4be5-aa9d-e93f82f44de1",
   "metadata": {},
   "outputs": [],
   "source": [
    "import torch.optim as optim\n",
    "\n",
    "# Loss and optimizer\n",
    "criterion = nn.CrossEntropyLoss()\n",
    "optimizer = optim.Adam(model.parameters(), lr=0.001)\n",
    "\n",
    "# Training the model\n",
    "num_epochs = 10\n",
    "device = torch.device('cuda' if torch.cuda.is_available() else 'cpu')\n",
    "\n",
    "for epoch in range(num_epochs):\n",
    "    for i, (images, captions) in enumerate(dataloader):\n",
    "        images = images.to(device)\n",
    "        captions = captions.to(device)\n",
    "\n",
    "        outputs = model(images, captions)\n",
    "        loss = criterion(outputs.view(-1, vocab_size), captions.view(-1))\n",
    "\n",
    "        optimizer.zero_grad()\n",
    "        loss.backward()\n",
    "        optimizer.step()\n",
    "\n",
    "        if i % 100 == 0:\n",
    "            print(f'Epoch [{epoch}/{num_epochs}], Step [{i}/{len(dataloader)}], Loss: {loss.item():.4f}')\n"
   ]
  },
  {
   "cell_type": "markdown",
   "id": "278b03bd-be71-4799-ae37-2119df9e333e",
   "metadata": {},
   "source": [
    "## Step 5: Generate Captions and Visualize Attention\n",
    "After training, we generate captions for new images and visualize the attention maps.\n",
    "\n",
    "### 5.1 Generate Captions and Visualize Attention"
   ]
  },
  {
   "cell_type": "code",
   "execution_count": null,
   "id": "d903d558-becd-4032-8c3f-5bb030e571ac",
   "metadata": {},
   "outputs": [],
   "source": [
    "import matplotlib.pyplot as plt\n",
    "import numpy as np\n",
    "import skimage.transform\n",
    "\n",
    "def visualize_attention(image, caption, attention_map):\n",
    "    fig = plt.figure(figsize=(15, 15))\n",
    "    len_s = len(caption)\n",
    "    for i in range(len_s):\n",
    "        ax = fig.add_subplot(len_s // 5 + 1, 5, i + 1)\n",
    "        ax.imshow(image)\n",
    "        ax.set_title(caption[i])\n",
    "        current_alpha = attention_map[i, :].cpu().data.numpy().reshape(7, 7)\n",
    "        alpha_img = skimage.transform.pyramid_expand(current_alpha, upscale=32, sigma=20)\n",
    "        ax.imshow(alpha_img, alpha=0.7)\n",
    "    plt.show()\n",
    "\n",
    "# Example usage:\n",
    "image, _ = dataset[0]\n",
    "image = image.unsqueeze(0).to(device)\n",
    "features = model.encoder(image)\n",
    "output = model.decoder.generate_caption(features, vocab)\n",
    "\n",
    "# Assuming attention_map is obtained during generation\n",
    "visualize_attention(image, output, attention_map)\n"
   ]
  },
  {
   "cell_type": "markdown",
   "id": "ac64c109-b13f-4e26-a2c6-3b2722ce7829",
   "metadata": {},
   "source": [
    "## Step 6: Save the Trained Model\n",
    "After training your model, you need to save it to disk."
   ]
  },
  {
   "cell_type": "code",
   "execution_count": null,
   "id": "b3397ad8-a9f9-4ddc-a89d-97f1fdab2af9",
   "metadata": {},
   "outputs": [],
   "source": [
    "# Save the model\n",
    "torch.save(model.state_dict(), 'image_captioning_model.pth')\n"
   ]
  },
  {
   "cell_type": "markdown",
   "id": "6afac779-6bfb-490b-a4bc-c324575cb197",
   "metadata": {},
   "source": [
    "## Step 7: Create a Streamlit App\n",
    "We'll create a Streamlit app that allows users to upload an image, generates a caption, and visualizes the attention map."
   ]
  },
  {
   "cell_type": "code",
   "execution_count": null,
   "id": "efacff42-85cc-4c39-ba91-e0b71418d6d6",
   "metadata": {},
   "outputs": [],
   "source": []
  }
 ],
 "metadata": {
  "kernelspec": {
   "display_name": "Python 3 (ipykernel)",
   "language": "python",
   "name": "python3"
  },
  "language_info": {
   "codemirror_mode": {
    "name": "ipython",
    "version": 3
   },
   "file_extension": ".py",
   "mimetype": "text/x-python",
   "name": "python",
   "nbconvert_exporter": "python",
   "pygments_lexer": "ipython3",
   "version": "3.11.5"
  }
 },
 "nbformat": 4,
 "nbformat_minor": 5
}
