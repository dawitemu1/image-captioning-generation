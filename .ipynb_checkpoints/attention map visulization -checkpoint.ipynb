{
 "cells": [
  {
   "cell_type": "markdown",
   "id": "954c880f-993d-469c-8b17-bfd9705ab9f7",
   "metadata": {},
   "source": [
    "## Step 1: Load the Dataset\n",
    "Assume we have a dataset of images and their captions stored locally. The images are in a directory, and captions are in a text file where each line has the format image_file_name|caption.\n",
    "\n",
    "### 1.1 Load Images and Captions\n",
    "First, we need to create a custom Dataset class to handle our data"
   ]
  },
  {
   "cell_type": "code",
   "execution_count": 49,
   "id": "5ce8b09c-c515-491b-8c32-70b29b3bb7bb",
   "metadata": {},
   "outputs": [
    {
     "name": "stdout",
     "output_type": "stream",
     "text": [
      "                         image  \\\n",
      "0  1000268201_693b08cb0e.jpg#0   \n",
      "1  1000268201_693b08cb0e.jpg#1   \n",
      "2  1000268201_693b08cb0e.jpg#2   \n",
      "3  1000268201_693b08cb0e.jpg#3   \n",
      "4  1000268201_693b08cb0e.jpg#4   \n",
      "\n",
      "                                             caption  \n",
      "0  A child in a pink dress is climbing up a set o...  \n",
      "1              A girl going into a wooden building .  \n",
      "2   A little girl climbing into a wooden playhouse .  \n",
      "3  A little girl climbing the stairs to her playh...  \n",
      "4  A little girl in a pink dress going into a woo...  \n"
     ]
    },
    {
     "ename": "FileNotFoundError",
     "evalue": "[Errno 2] No such file or directory: 'D:/PhD file/image caption/image caption model with app/Flickr8k_Dataset/training_Dataset\\\\1000268201_693b08cb0e.jpg#0'",
     "output_type": "error",
     "traceback": [
      "\u001b[1;31m---------------------------------------------------------------------------\u001b[0m",
      "\u001b[1;31mFileNotFoundError\u001b[0m                         Traceback (most recent call last)",
      "Cell \u001b[1;32mIn[49], line 20\u001b[0m\n\u001b[0;32m     17\u001b[0m caption \u001b[38;5;241m=\u001b[39m captions\u001b[38;5;241m.\u001b[39miloc[\u001b[38;5;241m0\u001b[39m, \u001b[38;5;241m1\u001b[39m]\n\u001b[0;32m     19\u001b[0m image_path \u001b[38;5;241m=\u001b[39m os\u001b[38;5;241m.\u001b[39mpath\u001b[38;5;241m.\u001b[39mjoin(image_folder, image_name)\n\u001b[1;32m---> 20\u001b[0m image \u001b[38;5;241m=\u001b[39m Image\u001b[38;5;241m.\u001b[39mopen(image_path)\n\u001b[0;32m     21\u001b[0m \u001b[38;5;66;03m# Display the image and its caption\u001b[39;00m\n\u001b[0;32m     22\u001b[0m image\u001b[38;5;241m.\u001b[39mshow()\n",
      "File \u001b[1;32m~\\anaconda3\\Lib\\site-packages\\PIL\\Image.py:3227\u001b[0m, in \u001b[0;36mopen\u001b[1;34m(fp, mode, formats)\u001b[0m\n\u001b[0;32m   3224\u001b[0m     filename \u001b[38;5;241m=\u001b[39m fp\n\u001b[0;32m   3226\u001b[0m \u001b[38;5;28;01mif\u001b[39;00m filename:\n\u001b[1;32m-> 3227\u001b[0m     fp \u001b[38;5;241m=\u001b[39m builtins\u001b[38;5;241m.\u001b[39mopen(filename, \u001b[38;5;124m\"\u001b[39m\u001b[38;5;124mrb\u001b[39m\u001b[38;5;124m\"\u001b[39m)\n\u001b[0;32m   3228\u001b[0m     exclusive_fp \u001b[38;5;241m=\u001b[39m \u001b[38;5;28;01mTrue\u001b[39;00m\n\u001b[0;32m   3230\u001b[0m \u001b[38;5;28;01mtry\u001b[39;00m:\n",
      "\u001b[1;31mFileNotFoundError\u001b[0m: [Errno 2] No such file or directory: 'D:/PhD file/image caption/image caption model with app/Flickr8k_Dataset/training_Dataset\\\\1000268201_693b08cb0e.jpg#0'"
     ]
    }
   ],
   "source": [
    "import os\n",
    "import pandas as pd\n",
    "from PIL import Image\n",
    "\n",
    "# Assuming you have the Flickr8k dataset downloaded and extracted\n",
    "image_folder = 'D:/PhD file/image caption/image caption model with app/Flickr8k_Dataset/training_Dataset'\n",
    "caption_file = 'D:/PhD file/image caption/image caption model with app/Flickr8k_text (1)/training.txt'\n",
    "\n",
    "# Read the captions file\n",
    "captions = pd.read_csv(caption_file, delimiter='\\t', header=None, names=['image', 'caption'])\n",
    "\n",
    "# Show the first few entries\n",
    "print(captions.head())\n",
    "\n",
    "# Example of reading an image and its caption\n",
    "image_name = captions.iloc[0, 0]\n",
    "caption = captions.iloc[0, 4]\n",
    "\n",
    "image_path = os.path.join(image_folder, image_name)\n",
    "image = Image.open(image_path)\n",
    "# Display the image and its caption\n",
    "image.show()\n",
    "print(caption)"
   ]
  },
  {
   "cell_type": "markdown",
   "id": "2bd25e54-f686-4e56-a6f8-2a1920612cc9",
   "metadata": {},
   "source": [
    "## Step 3: Build the Model\n",
    "We'll use a pre-trained CNN for feature extraction and an RNN with attention for generating captions.\n",
    "\n",
    "### 3.1 Encoder-Decoder Model with Attention"
   ]
  },
  {
   "cell_type": "code",
   "execution_count": null,
   "id": "25f8fd5e-3447-46b9-bc1f-e162ef8affef",
   "metadata": {},
   "outputs": [],
   "source": [
    "import torch\n",
    "import torch.nn as nn\n",
    "import torchvision.models as models\n",
    "\n",
    "class EncoderCNN(nn.Module):\n",
    "    def __init__(self, embed_size):\n",
    "        super(EncoderCNN, self).__init__()\n",
    "        resnet = models.resnet50(pretrained=True)\n",
    "        for param in resnet.parameters():\n",
    "            param.requires_grad = False\n",
    "        modules = list(resnet.children())[:-1]\n",
    "        self.resnet = nn.Sequential(*modules)\n",
    "        self.linear = nn.Linear(resnet.fc.in_features, embed_size)\n",
    "        self.bn = nn.BatchNorm1d(embed_size, momentum=0.01)\n",
    "\n",
    "    def forward(self, images):\n",
    "        features = self.resnet(images)\n",
    "        features = features.view(features.size(0), -1)\n",
    "        features = self.bn(self.linear(features))\n",
    "        return features\n",
    "\n",
    "class DecoderRNN(nn.Module):\n",
    "    def __init__(self, embed_size, hidden_size, vocab_size, num_layers):\n",
    "        super(DecoderRNN, self).__init__()\n",
    "        self.embed = nn.Embedding(vocab_size, embed_size)\n",
    "        self.lstm = nn.LSTM(embed_size, hidden_size, num_layers, batch_first=True)\n",
    "        self.linear = nn.Linear(hidden_size, vocab_size)\n",
    "        self.init_weights()\n",
    "\n",
    "    def init_weights(self):\n",
    "        self.embed.weight.data.uniform_(-0.1, 0.1)\n",
    "        self.linear.weight.data.uniform_(-0.1, 0.1)\n",
    "        self.linear.bias.data.fill_(0)\n",
    "\n",
    "    def forward(self, features, captions):\n",
    "        embeddings = self.embed(captions)\n",
    "        embeddings = torch.cat((features.unsqueeze(1), embeddings), 1)\n",
    "        hiddens, _ = self.lstm(embeddings)\n",
    "        outputs = self.linear(hiddens)\n",
    "        return outputs\n",
    "\n",
    "class EncoderDecoder(nn.Module):\n",
    "    def __init__(self, embed_size, hidden_size, vocab_size, num_layers):\n",
    "        super(EncoderDecoder, self).__init__()\n",
    "        self.encoder = EncoderCNN(embed_size)\n",
    "        self.decoder = DecoderRNN(embed_size, hidden_size, vocab_size, num_layers)\n",
    "\n",
    "    def forward(self, images, captions):\n",
    "        features = self.encoder(images)\n",
    "        outputs = self.decoder(features, captions)\n",
    "        return outputs\n",
    "\n",
    "# Example usage:\n",
    "embed_size = 256\n",
    "hidden_size = 512\n",
    "num_layers = 1\n",
    "vocab_size = len(vocab)\n",
    "\n",
    "model = EncoderDecoder(embed_size, hidden_size, vocab_size, num_layers).to(device)\n"
   ]
  },
  {
   "cell_type": "markdown",
   "id": "7415853b-04d2-43a7-997b-33209aa93168",
   "metadata": {},
   "source": [
    "## Step 4: Train the Model\n",
    "Define the loss function and the optimizer, and then train the model.\n",
    "\n",
    "### 4.1 Training Loop"
   ]
  },
  {
   "cell_type": "code",
   "execution_count": null,
   "id": "cc3f7d3c-c27c-4be5-aa9d-e93f82f44de1",
   "metadata": {},
   "outputs": [],
   "source": [
    "import torch.optim as optim\n",
    "\n",
    "# Loss and optimizer\n",
    "criterion = nn.CrossEntropyLoss()\n",
    "optimizer = optim.Adam(model.parameters(), lr=0.001)\n",
    "\n",
    "# Training the model\n",
    "num_epochs = 10\n",
    "device = torch.device('cuda' if torch.cuda.is_available() else 'cpu')\n",
    "\n",
    "for epoch in range(num_epochs):\n",
    "    for i, (images, captions) in enumerate(dataloader):\n",
    "        images = images.to(device)\n",
    "        captions = captions.to(device)\n",
    "\n",
    "        outputs = model(images, captions)\n",
    "        loss = criterion(outputs.view(-1, vocab_size), captions.view(-1))\n",
    "\n",
    "        optimizer.zero_grad()\n",
    "        loss.backward()\n",
    "        optimizer.step()\n",
    "\n",
    "        if i % 100 == 0:\n",
    "            print(f'Epoch [{epoch}/{num_epochs}], Step [{i}/{len(dataloader)}], Loss: {loss.item():.4f}')\n"
   ]
  },
  {
   "cell_type": "markdown",
   "id": "278b03bd-be71-4799-ae37-2119df9e333e",
   "metadata": {},
   "source": [
    "## Step 5: Generate Captions and Visualize Attention\n",
    "After training, we generate captions for new images and visualize the attention maps.\n",
    "\n",
    "### 5.1 Generate Captions and Visualize Attention"
   ]
  },
  {
   "cell_type": "code",
   "execution_count": null,
   "id": "d903d558-becd-4032-8c3f-5bb030e571ac",
   "metadata": {},
   "outputs": [],
   "source": [
    "import matplotlib.pyplot as plt\n",
    "import numpy as np\n",
    "import skimage.transform\n",
    "\n",
    "def visualize_attention(image, caption, attention_map):\n",
    "    fig = plt.figure(figsize=(15, 15))\n",
    "    len_s = len(caption)\n",
    "    for i in range(len_s):\n",
    "        ax = fig.add_subplot(len_s // 5 + 1, 5, i + 1)\n",
    "        ax.imshow(image)\n",
    "        ax.set_title(caption[i])\n",
    "        current_alpha = attention_map[i, :].cpu().data.numpy().reshape(7, 7)\n",
    "        alpha_img = skimage.transform.pyramid_expand(current_alpha, upscale=32, sigma=20)\n",
    "        ax.imshow(alpha_img, alpha=0.7)\n",
    "    plt.show()\n",
    "\n",
    "# Example usage:\n",
    "image, _ = dataset[0]\n",
    "image = image.unsqueeze(0).to(device)\n",
    "features = model.encoder(image)\n",
    "output = model.decoder.generate_caption(features, vocab)\n",
    "\n",
    "# Assuming attention_map is obtained during generation\n",
    "visualize_attention(image, output, attention_map)\n"
   ]
  },
  {
   "cell_type": "markdown",
   "id": "ac64c109-b13f-4e26-a2c6-3b2722ce7829",
   "metadata": {},
   "source": [
    "## Step 6: Save the Trained Model\n",
    "After training your model, you need to save it to disk."
   ]
  },
  {
   "cell_type": "code",
   "execution_count": null,
   "id": "b3397ad8-a9f9-4ddc-a89d-97f1fdab2af9",
   "metadata": {},
   "outputs": [],
   "source": [
    "# Save the model\n",
    "torch.save(model.state_dict(), 'image_captioning_model.pth')\n"
   ]
  },
  {
   "cell_type": "markdown",
   "id": "6afac779-6bfb-490b-a4bc-c324575cb197",
   "metadata": {},
   "source": [
    "## Step 7: Create a Streamlit App\n",
    "We'll create a Streamlit app that allows users to upload an image, generates a caption, and visualizes the attention map."
   ]
  },
  {
   "cell_type": "code",
   "execution_count": null,
   "id": "efacff42-85cc-4c39-ba91-e0b71418d6d6",
   "metadata": {},
   "outputs": [],
   "source": []
  }
 ],
 "metadata": {
  "kernelspec": {
   "display_name": "Python 3 (ipykernel)",
   "language": "python",
   "name": "python3"
  },
  "language_info": {
   "codemirror_mode": {
    "name": "ipython",
    "version": 3
   },
   "file_extension": ".py",
   "mimetype": "text/x-python",
   "name": "python",
   "nbconvert_exporter": "python",
   "pygments_lexer": "ipython3",
   "version": "3.11.5"
  }
 },
 "nbformat": 4,
 "nbformat_minor": 5
}
